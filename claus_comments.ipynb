{
 "cells": [
  {
   "cell_type": "markdown",
   "metadata": {},
   "source": [
    "# CC\n",
    "\n",
    "Code samples to aid discussion."
   ]
  },
  {
   "cell_type": "code",
   "execution_count": 1,
   "metadata": {},
   "outputs": [],
   "source": [
    "from itertools import chain\n",
    "\n",
    "import pandas as pd\n",
    "\n",
    "from utils import more_utils\n",
    "from utils import dictionaries_rename as naming"
   ]
  },
  {
   "cell_type": "markdown",
   "metadata": {},
   "source": [
    "## Read raw data\n",
    "\n",
    "Suggestion to deal with data types explicitely early on.\n",
    "Along below lines.\n",
    "In general: As I progress in the pipeline the less I want to be concerned with low level details."
   ]
  },
  {
   "cell_type": "code",
   "execution_count": 2,
   "metadata": {},
   "outputs": [],
   "source": [
    "df = pd.read_csv('data/10017_da_en_v2_0.tab', sep='\\t')"
   ]
  },
  {
   "cell_type": "code",
   "execution_count": 3,
   "metadata": {},
   "outputs": [],
   "source": [
    "dates = more_utils.find_columns(df, like='date')"
   ]
  },
  {
   "cell_type": "code",
   "execution_count": 4,
   "metadata": {},
   "outputs": [],
   "source": [
    "dates = ['w1_date', 'w2_date', 'w3_date', 'w4_date', 'w5_date', 'w6_date']"
   ]
  },
  {
   "cell_type": "code",
   "execution_count": 5,
   "metadata": {},
   "outputs": [
    {
     "data": {
      "text/plain": [
       "['w3_q6x2', 'w3_q6x3', 'w3_q6x4']"
      ]
     },
     "execution_count": 5,
     "metadata": {},
     "output_type": "execute_result"
    }
   ],
   "source": [
    "ordinals = list(naming.get_ordinal_names().keys())[:3]\n",
    "ordinals"
   ]
  },
  {
   "cell_type": "code",
   "execution_count": 6,
   "metadata": {},
   "outputs": [
    {
     "data": {
      "text/plain": [
       "['w2_q4x1', 'w3_q4x1', 'w4_q9x1']"
      ]
     },
     "execution_count": 6,
     "metadata": {},
     "output_type": "execute_result"
    }
   ],
   "source": [
    "binaries = list(naming.get_binary_names().keys())[:3]\n",
    "binaries"
   ]
  },
  {
   "cell_type": "code",
   "execution_count": 7,
   "metadata": {},
   "outputs": [
    {
     "name": "stdout",
     "output_type": "stream",
     "text": [
      "w1_q32t should be a numeric value?\n"
     ]
    }
   ],
   "source": [
    "# based on remaining object-columns after specifying dtypes for above columns\n",
    "strings = ['version', 'doi', 'panelpat', 'w4_q62t', 'w4_q63t', 'w4_q64t',\n",
    "           'w4_q80x5t', 'w4_q84x5t', 'w4f_q56t', 'w6_q31t', 'w6_q32t', 'w6_q33t',\n",
    "           'w6_q48x5t', 'w6_q52x5t', 'w6f_q42t', 'w1_q32t', 'w2_q47x5t', 'w2_q51x5t']\n",
    "           \n",
    "print('w1_q32t should be a numeric value?')"
   ]
  },
  {
   "cell_type": "code",
   "execution_count": 8,
   "metadata": {},
   "outputs": [],
   "source": [
    "# specify already know dtypes\n",
    "# * integer-like\n",
    "int_dtypes = dict.fromkeys(\n",
    "    chain(\n",
    "        naming.get_ordinal_names(), \n",
    "        naming.get_dummies_names(), \n",
    "        naming.get_binary_names()\n",
    "    ), 'Int64'\n",
    ")\n",
    "# * string-like\n",
    "str_dtypes = dict.fromkeys(strings, 'string')\n",
    "dtypes = {**int_dtypes, **str_dtypes}"
   ]
  },
  {
   "cell_type": "code",
   "execution_count": 9,
   "metadata": {},
   "outputs": [],
   "source": [
    "df = pd.read_csv('data/10017_da_en_v2_0.tab', sep='\\t', dtype=dtypes, parse_dates=dates)"
   ]
  },
  {
   "cell_type": "markdown",
   "metadata": {},
   "source": [
    "## Sanity checks"
   ]
  },
  {
   "cell_type": "code",
   "execution_count": 10,
   "metadata": {},
   "outputs": [
    {
     "data": {
      "text/plain": [
       "array([18., 45., 60., 36., 46., 50., 62., 20., 44., nan, 47., 57., 56.,\n",
       "       69., 41., 28., 31., 51., 64., 37., 33., 25., 53., 68., 24., 67.,\n",
       "       52., 54., 49., 61., 30., 42., 65., 39., 22., 34., 55., 29., 58.,\n",
       "       59., 48., 21., 38., 16., 43., 19., 32., 40., 23., 17., 26., 35.,\n",
       "       27., 66., 63., 70.])"
      ]
     },
     "execution_count": 10,
     "metadata": {},
     "output_type": "execute_result"
    }
   ],
   "source": [
    "df.age.unique()"
   ]
  },
  {
   "cell_type": "code",
   "execution_count": 11,
   "metadata": {},
   "outputs": [
    {
     "data": {
      "text/plain": [
       "False"
      ]
     },
     "execution_count": 11,
     "metadata": {},
     "output_type": "execute_result"
    }
   ],
   "source": [
    "(df == 'refused').any().any()"
   ]
  },
  {
   "cell_type": "markdown",
   "metadata": {},
   "source": [
    "## Preliminary Preprocessing\n",
    "\n",
    "This includes cases that to not nicely fall into below categories.\n",
    "* Invert `dte`\n",
    "* Add `ratio_dont_knows`\n",
    "* ..."
   ]
  },
  {
   "cell_type": "markdown",
   "metadata": {},
   "source": [
    "## Reshaping\n",
    "\n",
    "We bring the data in the correct form.\n",
    "\n",
    "We subset waves.\n",
    "\n",
    "This means:\n",
    "* row-wise: Select rows, i.e. survey participants that took part in a wave\n",
    "* column-wise: Select columns, i.e. variables related to a wave"
   ]
  },
  {
   "cell_type": "code",
   "execution_count": 12,
   "metadata": {},
   "outputs": [],
   "source": [
    "WAVENOS = ['1', '2', '3', '4', '5', '6']"
   ]
  },
  {
   "cell_type": "code",
   "execution_count": 13,
   "metadata": {},
   "outputs": [],
   "source": [
    "def select_rows_for_wave(df, waveno):\n",
    "    mask = df['panelpat'].str.contains(waveno)\n",
    "    return df[mask]"
   ]
  },
  {
   "cell_type": "code",
   "execution_count": 14,
   "metadata": {},
   "outputs": [],
   "source": [
    "waves = {}\n",
    "for waveno in WAVENOS:\n",
    "    df_new = select_rows_for_wave(df, waveno)\n",
    "    waves[waveno] = df_new"
   ]
  },
  {
   "cell_type": "code",
   "execution_count": 15,
   "metadata": {},
   "outputs": [],
   "source": [
    "# Following a similar procedure\n",
    "def filter_wave_questions(wave, df):\n",
    "    \"\"\"select only questions from specific wave + personal features\"\"\"\n",
    "    \n",
    "    # wave related questions\n",
    "    df_w = df.filter(regex='w' + wave)\n",
    "    # personal features (coded with 'sd' prefix)\n",
    "    df_sd = df.filter(regex='(sd)')\n",
    "    # id, popnum and age are personal features which are not coded with prefixes\n",
    "    # 'w' or 'sd', hence picked manually\n",
    "    df_id = df['id']\n",
    "    # changing string binned value to integer \n",
    "    df.loc[df.age == '>= 70', 'age'] = 70  # CC: It exists?\n",
    "    df_age = df['age']\n",
    "    y = df['panelpat']\n",
    "    df_popnum = df['popnum']\n",
    "    new_df = pd.concat([df_w, df_sd, df_popnum, df_id, df_age, y], axis=1)\n",
    "    return new_df\n",
    "\n",
    "\n",
    "# we get\n",
    "def select_columns_for_wave(df, waveno):\n",
    "    # This is filter_wave_questions\n",
    "    wave_related_questions = more_utils.find_columns(df, regex=f'w{waveno}')\n",
    "    personal_features = more_utils.find_columns(df, regex='(sd)')\n",
    "    additional_columns = ['popnum', 'id', 'age', 'panelpat']\n",
    "    relevant_columns = wave_related_questions + personal_features + additional_columns\n",
    "\n",
    "    return df[relevant_columns].copy()"
   ]
  },
  {
   "cell_type": "code",
   "execution_count": 16,
   "metadata": {},
   "outputs": [],
   "source": [
    "# Consider add apply-utilities to wrap application for specific types of operations (cf. dplyr grammar)\n",
    "# However, keep minimal example to showcase effect of transformation. In this case df_wave_new (too large of course).\n",
    "for waveno, df_wave in waves.items():\n",
    "    df_wave_new = select_columns_for_wave(df_wave, waveno)\n",
    "    waves[waveno] = df_wave_new"
   ]
  },
  {
   "cell_type": "markdown",
   "metadata": {},
   "source": [
    "## Tidying\n",
    "\n",
    "We clean the data.\n",
    "\n",
    "We convert types and handle missing values.\n",
    "\n",
    "This means:\n",
    "* Imputation of missing values\n",
    "* Mapping specific values to other values we consider more appropriate\n",
    "* Adjusting/transforming variable types"
   ]
  },
  {
   "cell_type": "markdown",
   "metadata": {
    "heading_collapsed": true
   },
   "source": [
    "### Ordinal Features"
   ]
  },
  {
   "cell_type": "code",
   "execution_count": 17,
   "metadata": {},
   "outputs": [],
   "source": [
    "# Similar to above, this one\n",
    "def prepare_ordinals_to_transform(df):\n",
    "    \"\"\"rename ordinal columns that need to be coded (e.g. opinion questions), \n",
    "    throw other features, check all the unique values of these columns, print (disabled by #),\n",
    "    replacing values with numbers, NaN values replaced by mode\"\"\"\n",
    "\n",
    "    X_ordinal = rename_specific_features_set(df, naming.get_ordinal_names())\n",
    "    \n",
    "    # 77, 88 values are \"don't know\" and 99 is refused, 12 is \"would vote invalid\"\n",
    "    # so we make these values NaN for it not to be considered as ordinal values\n",
    "    X_ordinal = X_ordinal.replace(dict.fromkeys([77, 88, 99, 12], np.NaN))\n",
    "\n",
    "    # replacing NaN by mode  # CC: May call it \"imputation\".\n",
    "    for column in X_ordinal.columns:\n",
    "        X_ordinal[column].fillna(X_ordinal[column].mode()[0], inplace=True)\n",
    "    # excluding string responses (like open questions)\n",
    "    # X_ordinal = X_ordinal.select_dtypes(exclude=[object])\n",
    "    drop_list = list(get_ordinal_names().keys())\n",
    "    df = df.drop(columns=drop_list, errors='ignore')\n",
    "    df = pd.concat([df, X_ordinal], axis=1)\n",
    "    return df\n",
    "\n",
    "\n",
    "# turns into\n",
    "def rename_and_impute_ordinals(df):\n",
    "\n",
    "    ordinal_names = naming.get_ordinal_names()\n",
    "\n",
    "    df_ordinal = df.filter(items=ordinal_names)\n",
    "\n",
    "    # Map specific responses to missing values (NA)\n",
    "    non_ordinal_responds_to_nan = dict.fromkeys([77, 88, 99, 12], pd.NA)\n",
    "    df_ordinal = df_ordinal.replace(non_ordinal_responds_to_nan)\n",
    "\n",
    "    # Impute missing values using the mode\n",
    "    for column in df_ordinal:\n",
    "        mode = df_ordinal[column].mode()[0]\n",
    "        df_ordinal[column] = df_ordinal[column].fillna(mode)\n",
    "    \n",
    "    # rename\n",
    "    df_ordinal = df_ordinal.rename(columns=ordinal_names)\n",
    "    return df_ordinal"
   ]
  },
  {
   "cell_type": "code",
   "execution_count": 18,
   "metadata": {},
   "outputs": [],
   "source": [
    "# Same comment as above\n",
    "for waveno, df_wave in waves.items():\n",
    "    df_wave_ordinal = rename_and_impute_ordinals(df_wave)\n",
    "    df_wave_new = pd.concat([df_wave, df_wave_ordinal], axis=1)\n",
    "    waves[waveno] = df_wave_new"
   ]
  },
  {
   "cell_type": "code",
   "execution_count": 19,
   "metadata": {},
   "outputs": [
    {
     "data": {
      "text/html": [
       "<div>\n",
       "<style scoped>\n",
       "    .dataframe tbody tr th:only-of-type {\n",
       "        vertical-align: middle;\n",
       "    }\n",
       "\n",
       "    .dataframe tbody tr th {\n",
       "        vertical-align: top;\n",
       "    }\n",
       "\n",
       "    .dataframe thead th {\n",
       "        text-align: right;\n",
       "    }\n",
       "</style>\n",
       "<table border=\"1\" class=\"dataframe\">\n",
       "  <thead>\n",
       "    <tr style=\"text-align: right;\">\n",
       "      <th></th>\n",
       "      <th>QUIZ: USE OF RESOURCES -w6f_q40</th>\n",
       "      <th>POLITICAL DISCUSSION (TYPICAL WEEK): NUMBER OF PEOPLE -w6_q55</th>\n",
       "      <th>POLITICAL DISCUSSION: NUMBER OF PEOPLE HOLDING DIFFERENT OPINIONS -w6_q56</th>\n",
       "      <th>INTERVIEW DURATION IN SECONDS -w6_intdur</th>\n",
       "      <th>INTERVIEWDATUM (DAYS TO ELECTION DAY) -w6_dte</th>\n",
       "      <th>HOUSEHOLD SIZE -sd5</th>\n",
       "      <th>MEMBERS OF HOUSEHOLD YOUNGER THAN 18 YEARS -sd6</th>\n",
       "      <th>PARTY UNITED/DIVIDED - IN GENERAL: LIST PETER PILZ -w6_q4x6</th>\n",
       "      <th>PARTY UNITED/DIVIDED - IN GENERAL: SPOE -w6_q4x1</th>\n",
       "      <th>PARTY UNITED/DIVIDED - IN GENERAL: OEVP -w6_q4x2</th>\n",
       "      <th>...</th>\n",
       "      <th>THE PEOPLE SHOULD TAKE MOST IMPORTANT DECISIONS, NOT POLITICIANS -w6_q34x6</th>\n",
       "      <th>PREFER INDEPENDENT CITIZEN INSTEAD OF A PARTY MEMBER -w6_q34x7</th>\n",
       "      <th>CORPORATIONS AND NOT THE GOVERNMENT DECIDE OVER POLITICS -w6_q34x8</th>\n",
       "      <th>POLITICIANS DO NOT CARE ABOUT WHAT PEOPLE LIKE ME THINK -w6_q34x5</th>\n",
       "      <th>SUBJECTIVE RISK-TAKING PROPENSITY -w6_q29</th>\n",
       "      <th>LIKE-DISLIKE: SPOE -w6_q36x1</th>\n",
       "      <th>LIKE-DISLIKE: OEVP -w6_q36x2</th>\n",
       "      <th>LIKE-DISLIKE: FPOE -w6_q36x3</th>\n",
       "      <th>ASSESSMENT OF POLIT. SITUATION: NERVOUS -w6_q38x7</th>\n",
       "      <th>age_group -sd2x2</th>\n",
       "    </tr>\n",
       "  </thead>\n",
       "  <tbody>\n",
       "    <tr>\n",
       "      <th>2</th>\n",
       "      <td>1</td>\n",
       "      <td>4</td>\n",
       "      <td>2</td>\n",
       "      <td>665</td>\n",
       "      <td>60</td>\n",
       "      <td>2</td>\n",
       "      <td>0</td>\n",
       "      <td>7</td>\n",
       "      <td>9</td>\n",
       "      <td>2</td>\n",
       "      <td>...</td>\n",
       "      <td>5</td>\n",
       "      <td>5</td>\n",
       "      <td>1</td>\n",
       "      <td>3</td>\n",
       "      <td>7</td>\n",
       "      <td>0</td>\n",
       "      <td>8</td>\n",
       "      <td>0</td>\n",
       "      <td>2</td>\n",
       "      <td>6</td>\n",
       "    </tr>\n",
       "    <tr>\n",
       "      <th>3</th>\n",
       "      <td>1</td>\n",
       "      <td>1</td>\n",
       "      <td>0</td>\n",
       "      <td>14329</td>\n",
       "      <td>61</td>\n",
       "      <td>4</td>\n",
       "      <td>3</td>\n",
       "      <td>5</td>\n",
       "      <td>5</td>\n",
       "      <td>5</td>\n",
       "      <td>...</td>\n",
       "      <td>3</td>\n",
       "      <td>1</td>\n",
       "      <td>2</td>\n",
       "      <td>1</td>\n",
       "      <td>5</td>\n",
       "      <td>5</td>\n",
       "      <td>5</td>\n",
       "      <td>0</td>\n",
       "      <td>0</td>\n",
       "      <td>3</td>\n",
       "    </tr>\n",
       "    <tr>\n",
       "      <th>5</th>\n",
       "      <td>1</td>\n",
       "      <td>10</td>\n",
       "      <td>10</td>\n",
       "      <td>375</td>\n",
       "      <td>60</td>\n",
       "      <td>4</td>\n",
       "      <td>2</td>\n",
       "      <td>5</td>\n",
       "      <td>5</td>\n",
       "      <td>5</td>\n",
       "      <td>...</td>\n",
       "      <td>3</td>\n",
       "      <td>2</td>\n",
       "      <td>3</td>\n",
       "      <td>2</td>\n",
       "      <td>5</td>\n",
       "      <td>0</td>\n",
       "      <td>5</td>\n",
       "      <td>0</td>\n",
       "      <td>5</td>\n",
       "      <td>5</td>\n",
       "    </tr>\n",
       "    <tr>\n",
       "      <th>6</th>\n",
       "      <td>1</td>\n",
       "      <td>1</td>\n",
       "      <td>0</td>\n",
       "      <td>739</td>\n",
       "      <td>61</td>\n",
       "      <td>2</td>\n",
       "      <td>0</td>\n",
       "      <td>8</td>\n",
       "      <td>3</td>\n",
       "      <td>2</td>\n",
       "      <td>...</td>\n",
       "      <td>3</td>\n",
       "      <td>2</td>\n",
       "      <td>1</td>\n",
       "      <td>1</td>\n",
       "      <td>3</td>\n",
       "      <td>8</td>\n",
       "      <td>1</td>\n",
       "      <td>1</td>\n",
       "      <td>8</td>\n",
       "      <td>6</td>\n",
       "    </tr>\n",
       "    <tr>\n",
       "      <th>7</th>\n",
       "      <td>1</td>\n",
       "      <td>1</td>\n",
       "      <td>1</td>\n",
       "      <td>727</td>\n",
       "      <td>60</td>\n",
       "      <td>4</td>\n",
       "      <td>1</td>\n",
       "      <td>7</td>\n",
       "      <td>6</td>\n",
       "      <td>5</td>\n",
       "      <td>...</td>\n",
       "      <td>2</td>\n",
       "      <td>2</td>\n",
       "      <td>2</td>\n",
       "      <td>2</td>\n",
       "      <td>7</td>\n",
       "      <td>5</td>\n",
       "      <td>4</td>\n",
       "      <td>2</td>\n",
       "      <td>2</td>\n",
       "      <td>2</td>\n",
       "    </tr>\n",
       "  </tbody>\n",
       "</table>\n",
       "<p>5 rows × 100 columns</p>\n",
       "</div>"
      ],
      "text/plain": [
       "   QUIZ: USE OF RESOURCES -w6f_q40  \\\n",
       "2                                1   \n",
       "3                                1   \n",
       "5                                1   \n",
       "6                                1   \n",
       "7                                1   \n",
       "\n",
       "   POLITICAL DISCUSSION (TYPICAL WEEK): NUMBER OF PEOPLE -w6_q55  \\\n",
       "2                                                  4               \n",
       "3                                                  1               \n",
       "5                                                 10               \n",
       "6                                                  1               \n",
       "7                                                  1               \n",
       "\n",
       "   POLITICAL DISCUSSION: NUMBER OF PEOPLE HOLDING DIFFERENT OPINIONS -w6_q56  \\\n",
       "2                                                  2                           \n",
       "3                                                  0                           \n",
       "5                                                 10                           \n",
       "6                                                  0                           \n",
       "7                                                  1                           \n",
       "\n",
       "   INTERVIEW DURATION IN SECONDS -w6_intdur  \\\n",
       "2                                       665   \n",
       "3                                     14329   \n",
       "5                                       375   \n",
       "6                                       739   \n",
       "7                                       727   \n",
       "\n",
       "   INTERVIEWDATUM (DAYS TO ELECTION DAY) -w6_dte  HOUSEHOLD SIZE -sd5  \\\n",
       "2                                             60                    2   \n",
       "3                                             61                    4   \n",
       "5                                             60                    4   \n",
       "6                                             61                    2   \n",
       "7                                             60                    4   \n",
       "\n",
       "   MEMBERS OF HOUSEHOLD YOUNGER THAN 18 YEARS -sd6  \\\n",
       "2                                                0   \n",
       "3                                                3   \n",
       "5                                                2   \n",
       "6                                                0   \n",
       "7                                                1   \n",
       "\n",
       "   PARTY UNITED/DIVIDED - IN GENERAL: LIST PETER PILZ -w6_q4x6  \\\n",
       "2                                                  7             \n",
       "3                                                  5             \n",
       "5                                                  5             \n",
       "6                                                  8             \n",
       "7                                                  7             \n",
       "\n",
       "   PARTY UNITED/DIVIDED - IN GENERAL: SPOE -w6_q4x1  \\\n",
       "2                                                 9   \n",
       "3                                                 5   \n",
       "5                                                 5   \n",
       "6                                                 3   \n",
       "7                                                 6   \n",
       "\n",
       "   PARTY UNITED/DIVIDED - IN GENERAL: OEVP -w6_q4x2  ...  \\\n",
       "2                                                 2  ...   \n",
       "3                                                 5  ...   \n",
       "5                                                 5  ...   \n",
       "6                                                 2  ...   \n",
       "7                                                 5  ...   \n",
       "\n",
       "   THE PEOPLE SHOULD TAKE MOST IMPORTANT DECISIONS, NOT POLITICIANS -w6_q34x6  \\\n",
       "2                                                  5                            \n",
       "3                                                  3                            \n",
       "5                                                  3                            \n",
       "6                                                  3                            \n",
       "7                                                  2                            \n",
       "\n",
       "   PREFER INDEPENDENT CITIZEN INSTEAD OF A PARTY MEMBER -w6_q34x7  \\\n",
       "2                                                  5                \n",
       "3                                                  1                \n",
       "5                                                  2                \n",
       "6                                                  2                \n",
       "7                                                  2                \n",
       "\n",
       "   CORPORATIONS AND NOT THE GOVERNMENT DECIDE OVER POLITICS -w6_q34x8  \\\n",
       "2                                                  1                    \n",
       "3                                                  2                    \n",
       "5                                                  3                    \n",
       "6                                                  1                    \n",
       "7                                                  2                    \n",
       "\n",
       "   POLITICIANS DO NOT CARE ABOUT WHAT PEOPLE LIKE ME THINK -w6_q34x5  \\\n",
       "2                                                  3                   \n",
       "3                                                  1                   \n",
       "5                                                  2                   \n",
       "6                                                  1                   \n",
       "7                                                  2                   \n",
       "\n",
       "   SUBJECTIVE RISK-TAKING PROPENSITY -w6_q29  LIKE-DISLIKE: SPOE -w6_q36x1  \\\n",
       "2                                          7                             0   \n",
       "3                                          5                             5   \n",
       "5                                          5                             0   \n",
       "6                                          3                             8   \n",
       "7                                          7                             5   \n",
       "\n",
       "   LIKE-DISLIKE: OEVP -w6_q36x2  LIKE-DISLIKE: FPOE -w6_q36x3  \\\n",
       "2                             8                             0   \n",
       "3                             5                             0   \n",
       "5                             5                             0   \n",
       "6                             1                             1   \n",
       "7                             4                             2   \n",
       "\n",
       "   ASSESSMENT OF POLIT. SITUATION: NERVOUS -w6_q38x7  age_group -sd2x2  \n",
       "2                                                  2                 6  \n",
       "3                                                  0                 3  \n",
       "5                                                  5                 5  \n",
       "6                                                  8                 6  \n",
       "7                                                  2                 2  \n",
       "\n",
       "[5 rows x 100 columns]"
      ]
     },
     "execution_count": 19,
     "metadata": {},
     "output_type": "execute_result"
    }
   ],
   "source": [
    "df_wave_ordinal.head()"
   ]
  },
  {
   "cell_type": "markdown",
   "metadata": {
    "heading_collapsed": true
   },
   "source": [
    "## Feature Engineering\n",
    "\n",
    "We derive features to express domain concepts.\n",
    "\n",
    "We add additional columns based on our considerations.\n",
    "\n",
    "This means:\n",
    "* Give examples"
   ]
  },
  {
   "cell_type": "code",
   "execution_count": 20,
   "metadata": {
    "hidden": true
   },
   "outputs": [],
   "source": [
    "# Original\n",
    "def count_voting_age_awareness(df):\n",
    "    \"\"\"coded as binary feature depending on whether answer is correct\"\"\"\n",
    "    \n",
    "    age_column = df.filter(regex='w1_q31|w4f_q55|w6f_q41').columns\n",
    "    df[age_column] = df[age_column].replace([16], True)    \n",
    "    # Age with capital letter because otherwise it's mixed with personal \n",
    "    # feature of age and gets to wrong dataset of personal features\n",
    "    df = df.rename(columns={age_column[0]: 'voting_Age_awareness'})\n",
    "    # replace wrong values and NaN by 0\n",
    "    df['voting_Age_awareness'][df['voting_Age_awareness'] != True] = False\n",
    "    return df\n",
    "\n",
    "\n",
    "# could (if I am not mistaken) be rewritten as\n",
    "def compute_voting_age_awareness(df):\n",
    "    \"\"\"\n",
    "    Does the participant know that ...?\n",
    "    \"\"\"\n",
    "    age_answer = more_utils.find_column(df, regex='w1_q31|w4f_q55|w6f_q41')\n",
    "    is_aware = df[age_answer] == 16\n",
    "    return pd.Series(is_aware, name='voting_Age_awareness', dtype='int')"
   ]
  },
  {
   "cell_type": "markdown",
   "metadata": {},
   "source": [
    "# Playground"
   ]
  },
  {
   "cell_type": "markdown",
   "metadata": {},
   "source": [
    "## Perform sanity checks on return values?\n",
    "\n",
    "We could be defensive an apply some basic sanity checks to \n",
    "preprocessing steps where something could go wrong.\n",
    "Here is an example."
   ]
  },
  {
   "cell_type": "code",
   "execution_count": 21,
   "metadata": {},
   "outputs": [],
   "source": [
    "@more_utils.has_non_trivial_return_value\n",
    "def some_function_with_a_problem(df):\n",
    "    \"\"\"\n",
    "    Does the participant know that ...?\n",
    "    \"\"\"\n",
    "    political_interest = df.filter(like='VISITED FACEBOOK').sum()\n",
    "    return political_interest"
   ]
  },
  {
   "cell_type": "code",
   "execution_count": 22,
   "metadata": {},
   "outputs": [],
   "source": [
    "# some_function_with_a_problem(df_wave_new)"
   ]
  },
  {
   "cell_type": "markdown",
   "metadata": {},
   "source": [
    "Uncomment above block to get\n",
    "\n",
    "```python\n",
    "---------------------------------------------------------------------------\n",
    "ValueError                                Traceback (most recent call last)\n",
    "Input In [28], in <cell line: 1>()\n",
    "----> 1 some_function_with_a_problem(df_wave_new)\n",
    "\n",
    "File ~/repo/training/univie-vsm-2022/resources/survey_attrition_for_mooc/utils/more_utils.py:29, in has_non_trivial_return_value.<locals>.wrapper(*args, **kwds)\n",
    "     27 if is_okay:\n",
    "     28     return value\n",
    "---> 29 raise ValueError('Trivial return value encountered.')\n",
    "\n",
    "ValueError: Trivial return value encountered.\n",
    "\n",
    "\n",
    "```"
   ]
  },
  {
   "cell_type": "markdown",
   "metadata": {},
   "source": [
    "## Managing Names\n",
    "\n",
    "Variable names are important for a variety of reasons:\n",
    "* Expression domain concepts\n",
    "* Readbility\n",
    "* Source of error\n",
    "\n",
    "At the moment, variable names are *flying* around in different places,\n",
    "they are oftentimes duplicated and hard to track and check (at least for me:).\n",
    "\n",
    "There are different options."
   ]
  },
  {
   "cell_type": "code",
   "execution_count": 23,
   "metadata": {},
   "outputs": [
    {
     "data": {
      "text/plain": [
       "['w1_panelist', 'w1_weightd', 'w1_weightp']"
      ]
     },
     "execution_count": 23,
     "metadata": {},
     "output_type": "execute_result"
    }
   ],
   "source": [
    "# Bare bones\n",
    "wave_related_names = more_utils.find_columns(df, regex='w1')\n",
    "wave_related_names[:3]\n",
    "# Observations\n",
    "# * Need to convey meaning through variable name\n",
    "# * There is no place where `regex=w1` is expressed as a concept\n",
    "# * Most likely used within a function and result then not available, e.g. for sanity checks"
   ]
  },
  {
   "cell_type": "code",
   "execution_count": 24,
   "metadata": {},
   "outputs": [
    {
     "data": {
      "text/plain": [
       "['w1_panelist', 'w1_weightd', 'w1_weightp']"
      ]
     },
     "execution_count": 24,
     "metadata": {},
     "output_type": "execute_result"
    }
   ],
   "source": [
    "# Collect in a namespace\n",
    "class VariableNames:\n",
    "    # No need to be class, could be functions in a naming module as well\n",
    "    def personal(self, df):\n",
    "        return more_utils.find_columns(df, regex='(sd)')\n",
    "    def wave_related(self, df, wave):\n",
    "        return more_utils.find_columns(df, regex=f'w{wave}')\n",
    "    def age_answer(self, df):\n",
    "        return more_utils.find_column(df, regex='w1_q31|w4f_q55|w6f_q41')\n",
    "    \n",
    "variable_names = VariableNames()\n",
    "variable_names.wave_related(df, '1')[:3]\n",
    "# Observations\n",
    "# * As a user I do not need to know about the underlying mechanism, \n",
    "#   I can simply ask for everything wave related.\n",
    "# * Again, needs data. But we could as well pass variable names in the \n",
    "#   constructor and/or import them from elsewhere (happens already anyway).\n",
    "# * As soon as there is a mechanism to find/define variable names, we can perform\n",
    "#   sanity checks."
   ]
  },
  {
   "cell_type": "code",
   "execution_count": 25,
   "metadata": {},
   "outputs": [],
   "source": [
    "# Collect and define in a namespace\n",
    "# Similar to what dictionaries_rename.py is doing right now \n",
    "# but with more utilities."
   ]
  },
  {
   "cell_type": "code",
   "execution_count": 26,
   "metadata": {},
   "outputs": [],
   "source": [
    "# Bind to DataFrame\n",
    "# Just an experiment."
   ]
  },
  {
   "cell_type": "code",
   "execution_count": 27,
   "metadata": {},
   "outputs": [],
   "source": [
    "@pd.api.extensions.register_dataframe_accessor(\"survey\")\n",
    "class SurveyAccessor:\n",
    "    def __init__(self, pandas_obj):\n",
    "        self._obj = pandas_obj\n",
    "    def personal(self):\n",
    "        return more_utils.find_columns(self._obj, regex='(sd)')\n",
    "    def wave_related(self, wave):\n",
    "        return more_utils.find_columns(self._obj, regex=f'w{wave}')\n",
    "    def age_awareness(self):\n",
    "        return more_utils.find_column(self._obj, regex='w1_q31|w4f_q55|w6f_q41')"
   ]
  },
  {
   "cell_type": "code",
   "execution_count": 28,
   "metadata": {},
   "outputs": [
    {
     "data": {
      "text/plain": [
       "['w1_panelist', 'w1_weightd', 'w1_weightp']"
      ]
     },
     "execution_count": 28,
     "metadata": {},
     "output_type": "execute_result"
    }
   ],
   "source": [
    "df.survey.wave_related('1')[:3]\n",
    "# Obversvations\n",
    "# * We could say this *is* survey data and it therefore know about \n",
    "#   these things. Not sure but good to know."
   ]
  }
 ],
 "metadata": {
  "hide_input": false,
  "kernelspec": {
   "display_name": "Python 3 (ipykernel)",
   "language": "python",
   "name": "python3"
  },
  "language_info": {
   "codemirror_mode": {
    "name": "ipython",
    "version": 3
   },
   "file_extension": ".py",
   "mimetype": "text/x-python",
   "name": "python",
   "nbconvert_exporter": "python",
   "pygments_lexer": "ipython3",
   "version": "3.10.2"
  },
  "toc": {
   "base_numbering": 1,
   "nav_menu": {},
   "number_sections": true,
   "sideBar": true,
   "skip_h1_title": true,
   "title_cell": "Table of Contents",
   "title_sidebar": "Contents",
   "toc_cell": false,
   "toc_position": {
    "height": "calc(100% - 180px)",
    "left": "10px",
    "top": "150px",
    "width": "165px"
   },
   "toc_section_display": true,
   "toc_window_display": true
  },
  "toc-autonumbering": true,
  "toc-showcode": false,
  "toc-showmarkdowntxt": false,
  "varInspector": {
   "cols": {
    "lenName": 16,
    "lenType": 16,
    "lenVar": 40
   },
   "kernels_config": {
    "python": {
     "delete_cmd_postfix": "",
     "delete_cmd_prefix": "del ",
     "library": "var_list.py",
     "varRefreshCmd": "print(var_dic_list())"
    },
    "r": {
     "delete_cmd_postfix": ") ",
     "delete_cmd_prefix": "rm(",
     "library": "var_list.r",
     "varRefreshCmd": "cat(var_dic_list()) "
    }
   },
   "types_to_exclude": [
    "module",
    "function",
    "builtin_function_or_method",
    "instance",
    "_Feature"
   ],
   "window_display": false
  }
 },
 "nbformat": 4,
 "nbformat_minor": 4
}
